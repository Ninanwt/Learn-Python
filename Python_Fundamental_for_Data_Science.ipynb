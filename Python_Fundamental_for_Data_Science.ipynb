{
  "nbformat": 4,
  "nbformat_minor": 0,
  "metadata": {
    "colab": {
      "provenance": [],
      "authorship_tag": "ABX9TyPUBSsfhJJy0tSJnDLKbbOc",
      "include_colab_link": true
    },
    "kernelspec": {
      "name": "python3",
      "display_name": "Python 3"
    },
    "language_info": {
      "name": "python"
    }
  },
  "cells": [
    {
      "cell_type": "markdown",
      "metadata": {
        "id": "view-in-github",
        "colab_type": "text"
      },
      "source": [
        "<a href=\"https://colab.research.google.com/github/Ninanwt/Learn-Python/blob/main/Python_Fundamental_for_Data_Science.ipynb\" target=\"_parent\"><img src=\"https://colab.research.google.com/assets/colab-badge.svg\" alt=\"Open In Colab\"/></a>"
      ]
    },
    {
      "cell_type": "markdown",
      "source": [
        "<h1><b> Python Fundamental for Data Science (Free Class DQLab)"
      ],
      "metadata": {
        "id": "t3VOtWU1fAnl"
      }
    },
    {
      "cell_type": "markdown",
      "source": [
        "<b><h2> 1. What's Python"
      ],
      "metadata": {
        "id": "4Q4aMrXyI770"
      }
    },
    {
      "cell_type": "markdown",
      "source": [
        "<b> Pendahuluan Tentang Python\n"
      ],
      "metadata": {
        "id": "O-i2wZ_9JNPt"
      }
    },
    {
      "cell_type": "markdown",
      "source": [
        "Python adalah bahasa pemrograman dengan perkembangan tercepat, didukung oleh banyak library dari akademisi dan developer perusahaan IT ternama seperti Google, Facebook, Microsoft, dll. Hal ini menjadikan Python solid dan populer.\n",
        "\n",
        "Python berguna dalam berbagai aspek, seperti:\n",
        "\n",
        "- Web Development (Server-Side)\n",
        "- Software Development\n",
        "- Mathematics\n",
        "- Scripting\n",
        "- Data Science\n",
        "- Big Data dan matematika kompleks\n",
        "- Riset dan rapid prototyping\n",
        "- CRUD file dan database\n",
        "\n",
        "Kepopuleran Python terutama dalam data science, didukung oleh library seperti scikit-learn, TensorFlow, dan PyTorch, membuatnya favorit untuk data mining, AI, dan machine learning. Berkembangnya data science juga meningkatkan popularitas Python."
      ],
      "metadata": {
        "id": "GnBP6TrvJlN7"
      }
    },
    {
      "cell_type": "markdown",
      "source": [
        "<b> Mengapa Python Populer"
      ],
      "metadata": {
        "id": "T8fy65olK8uW"
      }
    },
    {
      "cell_type": "markdown",
      "source": [
        "Python populer karena meningkatnya minat pada data science. Python cocok untuk scripting dan dapat berjalan di berbagai platform OS dan IoT. Meski termasuk high-level language, Python mudah dimengerti karena syntax-nya sederhana dan sangat mirip penulisannya dengan bahasa Inggris.\n",
        "\n",
        "Python dapat digunakan dalam paradigma pemrograman fungsional dan berorientasi object (OOP - object oriented programming). Berbeda dengan C, C++, dan Java yang berjenis kompilasi, Python merupakan bahasa pemrograman berjenis interpretasi yang artinya code yang sudah ditulis bisa dijalankan sesegera mungkin.\n",
        "\n",
        "Kelebihan Python meliputi:\n",
        "* Mudah ditulis dan dibaca, mirip bahasa Inggris dengan pengaruh matematika.\n",
        "* Menggunakan baris baru untuk mengakhiri perintah, bukan titik koma atau tanda kurung.\n",
        "* Mengandalkan indentasi dengan spasi untuk menentukan ruang lingkup (untuk mendefinisikan ruang lingkup; seperti lingkup loop, fungsi, dan kelas), Bahasa pemrograman lainnya sering menggunakan kurung kurawal untuk tujuan ini.\n",
        "\n",
        "Python 3 adalah versi terbaru dan digunakan secara luas, sementara Python 2 telah mencapai end-of-life pada Januari 2020."
      ],
      "metadata": {
        "id": "Mri4gYWSNn3L"
      }
    },
    {
      "cell_type": "markdown",
      "source": [
        "<b> Code Hello World"
      ],
      "metadata": {
        "id": "PEKbQu1TLeGy"
      }
    },
    {
      "cell_type": "code",
      "execution_count": null,
      "metadata": {
        "id": "1KKdu85dey55",
        "colab": {
          "base_uri": "https://localhost:8080/"
        },
        "outputId": "4f809f5a-492d-4014-b9af-f9d5b4ad7732"
      },
      "outputs": [
        {
          "output_type": "stream",
          "name": "stdout",
          "text": [
            "Hello World\n",
            "6\n",
            "25\n",
            "Academy DQLab\n"
          ]
        }
      ],
      "source": [
        "print (\"Hello World\")\n",
        "print(5+1)\n",
        "print(10*2+5)\n",
        "print(\"Academy DQLab\")"
      ]
    },
    {
      "cell_type": "markdown",
      "source": [
        "<b> Variable, Basic Data Type and Print"
      ],
      "metadata": {
        "id": "I1PRXHoXT32V"
      }
    },
    {
      "cell_type": "markdown",
      "source": [
        "Penggunaan variabel atau suatu objek yang bisa merepresentasikan sebuah nilai atau value sangat penting dalam bahasa pemrograman. Selain itu mempermudah dalam membaca source code, pemberian variable yang efisien juga akan membuat code berjalan optimal dan dinamis.\n",
        "\n",
        "\n",
        "Tipe Data, contoh, dan penjelasannya\n",
        "\n",
        "* Boolean: True atau False => Menyatakan benar True yang bernilai 1, atau salah False yang bernilai 0\n",
        "\n",
        "* String: \"Ayo belajar Python\" => Menyatakan karakter/kalimat bisa berupa huruf angka, dll (diapit tanda \" atau ')\n",
        "\n",
        "* Integer: 25 atau 1209 => Menyatakan bilangan bulat\n",
        "\n",
        "* Float: 3.14 atau 0.99 => Menyatakan bilangan yang mempunyai koma\n",
        "\n",
        "* List: ['xyz', 786, 2.23] => Data untaian yang menyimpan berbagai tipe data dan isinya bisa diubah-ubah\n",
        "\n",
        "* Tuple: ('xyz', 768, 2.23) => Data untaian yang menyimpan berbagai tipe data tapi isinya tidak bisa diubah\n",
        "\n",
        "* Dictionary: {'nama': 'adi','id':2} => Data untaian yang menyimpan berbagai tipe data berupa pasangan penunjuk dan nilai"
      ],
      "metadata": {
        "id": "IzfzJKs-SUTX"
      }
    },
    {
      "cell_type": "markdown",
      "source": [
        "<b> Printing Data Type"
      ],
      "metadata": {
        "id": "qrqc21mRV5BV"
      }
    },
    {
      "cell_type": "code",
      "source": [
        "#tipe data Boolean\n",
        "print(True)\n",
        "\n",
        "#tipe data String\n",
        "print(\"Ayo belajar Python\")\n",
        "print('Belajar Python Sangat Mudah di DQLAB')\n",
        "\n",
        "#tipe data Integer\n",
        "print(20)\n",
        "\n",
        "#tipe data Float\n",
        "print(3.14)\n",
        "\n",
        "#tipe data List\n",
        "print([1,2,3,4,5])\n",
        "print([\"satu\", \"dua\", \"tiga\"])\n",
        "\n",
        "#tipe data Tuple\n",
        "print((1,2,3,4,5))\n",
        "print((\"satu\", \"dua\", \"tiga\"))\n",
        "\n",
        "#tipe data Dictionary\n",
        "print({\"nama\":\"Budi\", 'umur':20})\n",
        "\n",
        "#tipe data Dictionary dimasukan ke dalam variabel biodata\n",
        "biodata = {\"nama\":\"Andi\", 'umur':21} #proses inisialisasi variabel biodata\n",
        "print(biodata) #proses pencetakan variabel biodata yang berisi tipe data Dictionary\n",
        "type(biodata) #fungsi untuk mengecek jenis tipe data. akan tampil <class 'dict'>"
      ],
      "metadata": {
        "colab": {
          "base_uri": "https://localhost:8080/"
        },
        "id": "8B09yIkVUN-p",
        "outputId": "a1495a16-2542-4d7d-c01c-f06e53aba783"
      },
      "execution_count": null,
      "outputs": [
        {
          "output_type": "stream",
          "name": "stdout",
          "text": [
            "True\n",
            "Ayo belajar Python\n",
            "Belajar Python Sangat Mudah di DQLAB\n",
            "20\n",
            "3.14\n",
            "[1, 2, 3, 4, 5]\n",
            "['satu', 'dua', 'tiga']\n",
            "(1, 2, 3, 4, 5)\n",
            "('satu', 'dua', 'tiga')\n",
            "{'nama': 'Budi', 'umur': 20}\n",
            "{'nama': 'Andi', 'umur': 21}\n"
          ]
        },
        {
          "output_type": "execute_result",
          "data": {
            "text/plain": [
              "dict"
            ]
          },
          "metadata": {},
          "execution_count": 2
        }
      ]
    },
    {
      "cell_type": "markdown",
      "source": [
        "Tugas Praktek: Printing Data type menggunakan Variable."
      ],
      "metadata": {
        "id": "Lrm2rnclUh9z"
      }
    },
    {
      "cell_type": "code",
      "source": [
        "var_string=\"Belajar Python DQLAB\"\n",
        "var_int=10\n",
        "var_float=3.14\n",
        "var_list=[1,2,3,4]\n",
        "var_tuple=(\"satu\",\"dua\",\"tiga\")\n",
        "var_dict={\"nama\":\"Ali\", 'umur':20}\n",
        "\n",
        "print(var_string)\n",
        "print(var_int)\n",
        "print(var_float)\n",
        "print(var_list)\n",
        "print(var_tuple)\n",
        "print(var_dict)\n",
        "\n",
        "print(type(var_string))\n",
        "print(type(var_int))\n",
        "print(type(var_float))\n",
        "print(type(var_list))\n",
        "print(type(var_tuple))\n",
        "print(type(var_dict))"
      ],
      "metadata": {
        "colab": {
          "base_uri": "https://localhost:8080/"
        },
        "id": "T-k1MYFfUljJ",
        "outputId": "f0d7054c-226e-42d6-8844-832cabef0144"
      },
      "execution_count": null,
      "outputs": [
        {
          "output_type": "stream",
          "name": "stdout",
          "text": [
            "Belajar Python DQLAB\n",
            "10\n",
            "3.14\n",
            "[1, 2, 3, 4]\n",
            "('satu', 'dua', 'tiga')\n",
            "{'nama': 'Ali', 'umur': 20}\n",
            "<class 'str'>\n",
            "<class 'int'>\n",
            "<class 'float'>\n",
            "<class 'list'>\n",
            "<class 'tuple'>\n",
            "<class 'dict'>\n"
          ]
        }
      ]
    },
    {
      "cell_type": "markdown",
      "source": [
        "<b><h2> 2. Struktur Kontrol: Percabangan Keputusan\n",
        "<p>penggunaan IF, ELSE dan IF ELSE dalam Python"
      ],
      "metadata": {
        "id": "t-U47KLgU4wv"
      }
    },
    {
      "cell_type": "markdown",
      "source": [
        "<b> IF Statement"
      ],
      "metadata": {
        "id": "IFkUIKBIWsPm"
      }
    },
    {
      "cell_type": "code",
      "source": [
        "i = 10 #inisialisasi variable i yang memiliki nilai 10\n",
        "\n",
        "if(i==10): #pengecekan nilai i apakah sama dengan 10\n",
        "    print(\"ini adalah angka 10\") #jika TRUE maka akan mencetak kalimat ini"
      ],
      "metadata": {
        "colab": {
          "base_uri": "https://localhost:8080/"
        },
        "id": "AMxIqmtaXr9a",
        "outputId": "76d32650-4e37-4e74-9e4f-c06e950eb539"
      },
      "execution_count": null,
      "outputs": [
        {
          "output_type": "stream",
          "name": "stdout",
          "text": [
            "ini adalah angka 10\n"
          ]
        }
      ]
    },
    {
      "cell_type": "code",
      "source": [
        "i = 7 #inisialisasi variable i yang memiliki nilai 10\n",
        "\n",
        "if(i==10): #pengecekan nilai i apakah sama dengan 10\n",
        "    print(\"ini adalah angka 10\") #jika TRUE maka akan mencetak kalimat ini"
      ],
      "metadata": {
        "id": "PfV2a-wsXxM_"
      },
      "execution_count": null,
      "outputs": []
    },
    {
      "cell_type": "markdown",
      "source": [
        "<b>IF … ELSE …"
      ],
      "metadata": {
        "id": "y4wwMBStYGAh"
      }
    },
    {
      "cell_type": "code",
      "source": [
        "i = 5 #inisialisasi variable i yang memiliki nilai 10\n",
        "\n",
        "if(i==10): #pengecekan nilai i apakah sama dengan 10\n",
        "    print(\"ini adalah angka 10\") #jika TRUE maka akan mencetak kalimat ini\n",
        "else:\n",
        "    print(\"bukan angka 10\") #jika FALSE akan mencetak kalimat ini\n",
        "    #Nilai variable adalah 5. Pada kondisi pertama variable i tidak memenuhi.\n",
        "    #Maka output yang diberikan adalah perintah pada else yang merupakan hasil yang\n",
        "    #keluar apabila pengecekan pertama tidak sesuai."
      ],
      "metadata": {
        "colab": {
          "base_uri": "https://localhost:8080/"
        },
        "id": "NFTjTNyiYIO0",
        "outputId": "dfeb16d0-83c8-4c6d-a8ea-b9e6503aa94d"
      },
      "execution_count": null,
      "outputs": [
        {
          "output_type": "stream",
          "name": "stdout",
          "text": [
            "bukan angka 10\n"
          ]
        }
      ]
    },
    {
      "cell_type": "markdown",
      "source": [
        "<b>IF … ELIF … ELSE …."
      ],
      "metadata": {
        "id": "uJDsBsBcY16y"
      }
    },
    {
      "cell_type": "code",
      "source": [
        "i=3\n",
        "\n",
        "if(i==5):\n",
        "     print(\"ini adalah angka 5\")\n",
        "elif(i>5):\n",
        "     print(\"lebih besar dari 5\")\n",
        "else:\n",
        "     print(\"lebih kecil dari 5\")"
      ],
      "metadata": {
        "id": "f1w-WQcNtNPg"
      },
      "execution_count": null,
      "outputs": []
    },
    {
      "cell_type": "markdown",
      "source": [
        "<b>NESTED IF"
      ],
      "metadata": {
        "id": "m8_GW1ziuHpT"
      }
    },
    {
      "cell_type": "markdown",
      "source": [
        "* Fungsi IF sendiri dapat digunakan secara bertingkat atau dapat memiliki pengecekan lebih dari 1 kondisi,\n",
        "\n",
        "* sebagai contoh: if ( i<7 && i <3) =>\n",
        "Pernyataan ini berarti bahwa i harus bernilai kurang dari 7 dan juga harus kurang dari 3 agar bisa memenuhi pengecekan tersebut."
      ],
      "metadata": {
        "id": "7c0ULx1cuLst"
      }
    },
    {
      "cell_type": "code",
      "source": [
        "i=2\n",
        "if (i<7):\n",
        "\tprint(\"nilai i kurang dari 7\")\n",
        "\tif (i<3):\n",
        "\t\tprint(\"nilai i kurang dari 7 dan kurang dari 3\")\n",
        "\telse:\n",
        "\t\tprint(\"nilai i kurang dari 7 tapi lebih dari 3\")"
      ],
      "metadata": {
        "colab": {
          "base_uri": "https://localhost:8080/"
        },
        "id": "twwuM-BauhU4",
        "outputId": "87abb974-c757-4388-feee-fd0a04258d68"
      },
      "execution_count": null,
      "outputs": [
        {
          "output_type": "stream",
          "name": "stdout",
          "text": [
            "nilai i kurang dari 7\n",
            "nilai i kurang dari 7 dan kurang dari 3\n"
          ]
        }
      ]
    },
    {
      "cell_type": "markdown",
      "source": [
        "<b><h2> 3. Operator Matematika dan Pembanding"
      ],
      "metadata": {
        "id": "o5JUTjweuzD0"
      }
    },
    {
      "cell_type": "markdown",
      "source": [
        "Operator dasar dan operator logika pada matematika.\n",
        "\n",
        "* Tambah +\n",
        "* Kurang -\n",
        "* Pembagi /\n",
        "* Perkalian *\n",
        "* Modulus %\n",
        "* Kurang dari <\n",
        "* Lebih dari >\n",
        "* Kurang dari sama dengan <=\n",
        "* Lebih dari sama dengan >=\n",
        "* Sama dengan ="
      ],
      "metadata": {
        "id": "1dJ2rbVrvP5x"
      }
    },
    {
      "cell_type": "code",
      "source": [
        "a=10\n",
        "b=5\n",
        "selisih = a-b\n",
        "jumlah = a+b\n",
        "kali = a*b\n",
        "bagi = a/b\n",
        "print(\"Hasil penjumlahan a dan b adalah\", jumlah)\n",
        "print(\"Selisih a dan b adalah :\",selisih)\n",
        "print(\"Hasil perkalian a dan b adalah :\",kali)\n",
        "print(\"Hasil pembagian a dan b adalah:\",bagi)"
      ],
      "metadata": {
        "colab": {
          "base_uri": "https://localhost:8080/"
        },
        "id": "25kFdaPXwFDH",
        "outputId": "cfae893a-974d-4935-901c-14034742786e"
      },
      "execution_count": null,
      "outputs": [
        {
          "output_type": "stream",
          "name": "stdout",
          "text": [
            "Hasil penjumlahan a dan b adalah 15\n",
            "Selisih a dan b adalah : 5\n",
            "Hasil perkalian a dan b adalah : 50\n",
            "Hasil pembagian a dan b adalah: 2.0\n"
          ]
        }
      ]
    },
    {
      "cell_type": "code",
      "source": [
        "c=10\n",
        "d=3\n",
        "\n",
        "modulus=c%d\n",
        "print(\"Hasil modulus\",modulus)"
      ],
      "metadata": {
        "id": "Z2pzZWm6wk9u"
      },
      "execution_count": null,
      "outputs": []
    },
    {
      "cell_type": "code",
      "source": [
        "# Buat variabel dengan nama \"angka\" yang diisi dengan nilai 10\n",
        "angka = 10\n",
        "\n",
        "# Cek apakah angka modulus 2 bernilai 0\n",
        "if(angka % 2 == 0):\n",
        "    print(\"angka termasuk bilangan genap\")\n",
        "else:\n",
        "    print(\"angka termasuk bilangan ganjil\")\n",
        "\n",
        "# Ganti nilai variabel angka dengan nilai 5\n",
        "angka = 5\n",
        "\n",
        "# Cek kembali apakah angka bernilai ganjil\n",
        "if(angka % 2 == 0):\n",
        "    print(\"angka termasuk bilangan genap\")\n",
        "else:\n",
        "    print(\"angka termasuk bilangan ganjil\")"
      ],
      "metadata": {
        "colab": {
          "base_uri": "https://localhost:8080/"
        },
        "id": "d36NKfbKx9lV",
        "outputId": "f0cb61d3-3dc9-45cf-f759-e7673304c69c"
      },
      "execution_count": null,
      "outputs": [
        {
          "output_type": "stream",
          "name": "stdout",
          "text": [
            "angka termasuk bilangan genap\n",
            "angka termasuk bilangan ganjil\n"
          ]
        }
      ]
    },
    {
      "cell_type": "markdown",
      "source": [
        "<b><h2> 4.\tPerulangan"
      ],
      "metadata": {
        "id": "_tc1j9lYyT__"
      }
    },
    {
      "cell_type": "markdown",
      "source": [
        "* Perulangan atau looping merupakan salah satu elemen atau fungsi yang bisa dikatakan sangat menunjang untuk kebutuhan programming dan data science.\n",
        "\n",
        "* Ambil contoh, seandainya kita harus memproses 1000x eksekusi code. Tentu akan menghabiskan waktu bila kita harus menulis ulang kode tersebut sebanyak 1000x juga.\n",
        "\n",
        "* Selain tidak bersifat scalable, efisiensi akan mempengaruhi performa dari program yang kita buat. Seperti pada umumnya pada python juga memiliki fungsi for dan while untuk melakukan looping. Logikanya hampir sama, namun hanya berbeda dalam penulisannya jika kamu sudah terbiasa dengan C ataupun Java."
      ],
      "metadata": {
        "id": "-V5vwWhtyXvs"
      }
    },
    {
      "cell_type": "markdown",
      "source": [
        "<b> While"
      ],
      "metadata": {
        "id": "3okSqzhDywD9"
      }
    },
    {
      "cell_type": "code",
      "source": [
        "#nilai awal j =0\n",
        "j = 0\n",
        "\n",
        "#ketika j kurang dari 6 lakukan perulangan, jika tidak stop perulangan\n",
        "while j<6:\n",
        "    #lakukan perintah ini ketika perulangan\n",
        "    print(\"Ini adalah perulangan ke -\",j)\n",
        "    #setiap kali diakhir perulangan update nilai dengan ditambah 1.\n",
        "    j=j+1"
      ],
      "metadata": {
        "colab": {
          "base_uri": "https://localhost:8080/"
        },
        "id": "PU3EOc2byo9D",
        "outputId": "581bd459-66b3-4596-b225-050335a4f0e6"
      },
      "execution_count": null,
      "outputs": [
        {
          "output_type": "stream",
          "name": "stdout",
          "text": [
            "Ini adalah perulangan ke - 0\n",
            "Ini adalah perulangan ke - 1\n",
            "Ini adalah perulangan ke - 2\n",
            "Ini adalah perulangan ke - 3\n",
            "Ini adalah perulangan ke - 4\n",
            "Ini adalah perulangan ke - 5\n"
          ]
        }
      ]
    },
    {
      "cell_type": "markdown",
      "source": [
        "<b> For"
      ],
      "metadata": {
        "id": "UkQ5VZVpzdeS"
      }
    },
    {
      "cell_type": "code",
      "source": [
        "for i in range(1,6): #perulangan for sebagai inisialisasi dari angka 1 hingga angka yang lebih kecil daripada 6.\n",
        "\n",
        "    print(\"Ini adalah perulangan ke -\", i) #perintah jika looping akan tetap berjalan"
      ],
      "metadata": {
        "colab": {
          "base_uri": "https://localhost:8080/"
        },
        "id": "NTpFZVSuze80",
        "outputId": "477e3623-cbb3-4bad-f73b-bf37ab72e05d"
      },
      "execution_count": null,
      "outputs": [
        {
          "output_type": "stream",
          "name": "stdout",
          "text": [
            "Ini adalah perulangan ke - 1\n",
            "Ini adalah perulangan ke - 2\n",
            "Ini adalah perulangan ke - 3\n",
            "Ini adalah perulangan ke - 4\n",
            "Ini adalah perulangan ke - 5\n"
          ]
        }
      ]
    },
    {
      "cell_type": "markdown",
      "source": [
        "Maksud dari fungsi for i in range (1,6) adalah, jika kita konversi pada JAVA atau C sama dengan for(i=1;i<6i++). Jika dikonversi menjadi kalimat maka akan menjadi “perulangan dimulai dari nilai i = 1 hingga nilai i kurang dari 6 dimana setiap kali perulangan nilai i akan selalu ditambah 1”. Jika nilai i sudah mencapai 6 perulangan akan dihentikan."
      ],
      "metadata": {
        "id": "G1OB8RhpziKB"
      }
    },
    {
      "cell_type": "markdown",
      "source": [
        "<b>For with access element"
      ],
      "metadata": {
        "id": "klGML441zwFO"
      }
    },
    {
      "cell_type": "code",
      "source": [
        "count=[1,2,3,4,5] #elemen list\n",
        "\n",
        "for number in count: #looping untuk menampilkan semua elemen pada count\n",
        "    print(\"Ini adalah element count : \", number) #menampilkan elemen list pada count"
      ],
      "metadata": {
        "colab": {
          "base_uri": "https://localhost:8080/"
        },
        "id": "qrvl3mVPz1pt",
        "outputId": "d93e0b29-5415-4753-d182-ffbe43d2120d"
      },
      "execution_count": null,
      "outputs": [
        {
          "output_type": "stream",
          "name": "stdout",
          "text": [
            "Ini adalah element count :  1\n",
            "Ini adalah element count :  2\n",
            "Ini adalah element count :  3\n",
            "Ini adalah element count :  4\n",
            "Ini adalah element count :  5\n"
          ]
        }
      ]
    },
    {
      "cell_type": "code",
      "source": [
        "for i in range(1,11):\n",
        "    if(i%2==0):\n",
        "        print(\"Angka genap : \",i)\n",
        "    else:\n",
        "        print(\"Angka ganjil: \",i)"
      ],
      "metadata": {
        "id": "EkmPorerAnsL"
      },
      "execution_count": null,
      "outputs": []
    },
    {
      "cell_type": "markdown",
      "source": [
        "<b><h2>5. Function"
      ],
      "metadata": {
        "id": "GhcW6QPiAy5U"
      }
    },
    {
      "cell_type": "markdown",
      "source": [
        "* Pada pembuatan program yang kompleks dengan banyak fitur, penggunaan fungsi sangat penting. Fungsi mempermudah penulisan kode dan mencegah kerumitan karena banyaknya kode yang harus ditulis. Seiring waktu, kode tanpa fungsi bisa menjadi sulit dibaca dan dirawat.\n",
        "\n",
        "* Fungsi dapat dianalogikan sebagai perangkat untuk tujuan tertentu dalam program. Perangkat ini bisa dipanggil kapan saja sesuai kebutuhan. Fungsi memiliki sifat reusable atau dapat digunakan berulang kali. Selain itu, penggunaan fungsi membuat program lebih terstruktur dan mudah dirawat."
      ],
      "metadata": {
        "id": "PFDNM3EhA7q0"
      }
    },
    {
      "cell_type": "code",
      "source": [
        "# Membuat Fungsi\n",
        "def salam():\n",
        "    print(\"Hello, Selamat Pagi\")\n",
        "\n",
        "# Pemanggilan Fungsi\n",
        "salam()"
      ],
      "metadata": {
        "colab": {
          "base_uri": "https://localhost:8080/"
        },
        "id": "n3AbaLZGBTlR",
        "outputId": "98c10a92-50f2-4009-acea-8f3b37b1fc04"
      },
      "execution_count": null,
      "outputs": [
        {
          "output_type": "stream",
          "name": "stdout",
          "text": [
            "Hello, Selamat Pagi\n"
          ]
        }
      ]
    },
    {
      "cell_type": "markdown",
      "source": [
        "<b>Parameter pada fungsi"
      ],
      "metadata": {
        "id": "knrbMyMXB8vY"
      }
    },
    {
      "cell_type": "markdown",
      "source": [
        "* Sekarang, bagaimana kalau kita ingin memberikan input nilai ke dalam fungsi?\n",
        "* Kita bisa menggunakan parameter. Parameter adalah variabel yang menampung nilai untuk diproses kedalam suatu fungsi."
      ],
      "metadata": {
        "id": "enMDEUkSCFHr"
      }
    },
    {
      "cell_type": "code",
      "source": [
        "def luas_segitiga(alas, tinggi): #alas dan tinggi merupakan parameter yang masuk\n",
        "    luas = (alas * tinggi) / 2\n",
        "    print(\"Luas segitiga: %f\" % luas);\n",
        "\n",
        "# Pemanggilan fungsi\n",
        "# 4 dan 6 merupakan parameter yang diinputkan kedalam fungsi luas segitiga\n",
        "luas_segitiga(4, 6)"
      ],
      "metadata": {
        "colab": {
          "base_uri": "https://localhost:8080/"
        },
        "id": "teG3dM_-CA5p",
        "outputId": "dec3ee12-682e-4895-9266-04a9d4c2cd0c"
      },
      "execution_count": null,
      "outputs": [
        {
          "output_type": "stream",
          "name": "stdout",
          "text": [
            "Luas segitiga: 12.000000\n"
          ]
        }
      ]
    },
    {
      "cell_type": "markdown",
      "source": [
        "<b>Fungsi dengan Return Value"
      ],
      "metadata": {
        "id": "budtv3LbCpFm"
      }
    },
    {
      "cell_type": "markdown",
      "source": [
        "Fungsi yang tidak mengembalikan nilai biasanya disebut dengan prosedur. Namun, kadang kita butuh hasil proses dari fungsi untuk digunakan pada proses berikutnya. Maka fungsi harus mengembalikan nilai dari hasil pemrosesannya. Cara mengembalikan nilai adalah menggunakan kata kunci return lalu diikuti dengan nilai atau variabel yang akan dikembalikan."
      ],
      "metadata": {
        "id": "i-1Y1cbOCyCc"
      }
    },
    {
      "cell_type": "code",
      "source": [
        "#alas dan tinggi merupakan parameter yang masuk\n",
        "def luas_segitiga(alas, tinggi):\n",
        "    luas = (alas * tinggi) / 2\n",
        "    return luas\n",
        "\n",
        "# Pemanggilan fungsi\n",
        "# 4 dan 6 merupakan parameter yang diinputkan kedalam fungsi luas segitiga\n",
        "print(\"Luas segitiga: %d\" % luas_segitiga(4, 6))"
      ],
      "metadata": {
        "id": "Z91noixBDHF1"
      },
      "execution_count": null,
      "outputs": []
    },
    {
      "cell_type": "markdown",
      "source": [
        "<b><h2>6. Modul dan Package"
      ],
      "metadata": {
        "id": "PP5s8xo_IKlF"
      }
    },
    {
      "cell_type": "markdown",
      "source": [
        "Modul merupakan objek python yang telah tersedia dari pengembangnya atau dapat kamu kembangkan sendiri. Dalam bahasa yang cukup sederhana, modul adalah kumpulan kode Python yang distruktur ke dalam beberapa fungsi, kelas, dan variabel. Python sendiri telahmemiliki banyak library dan module yang bisa diakses oleh pengguna secara free.\n",
        "\n",
        "Umumnya modul dikembangkan untuk tujuan umum yang luas penerapannya seperti:\n",
        "\n",
        "* untuk pengolah data numerik seperti array 1D, 2D, 3D atau hingga nD dengan contohnya adalah numpy\n",
        "* untuk komputasi saintifik yang berbasis metode numerik dan statistik dengan contohnya adalah scipy dan statsmodel\n",
        "* untuk pengolah dan analisis data seperti Microsoft Excel atau Google Spreadsheets dengan contohnya adalah pandas, pypolar, dan modin\n",
        "* untuk visualisasi data dengan contohnya yaitu matplotlib, seaborn, plotnine, altair, mayavi, bokeh, plotly, dll.  \n",
        "* untuk pembelajaran mesin dengan contohnya yaitu scikit-learn, xgboost, lightgbm, catboost, pycaret, dll\n",
        "* untuk deep learning dengan contohnya adalah keras, tensorflow, pytorch, cafe, dll\n",
        "\n",
        "Tentunya masih banyak lagi jika disebutkan. Library atau modul-modul yang telah disebutkan merupakan library yang umum digunakan oleh data scientist."
      ],
      "metadata": {
        "id": "qegYtjjWIP4J"
      }
    },
    {
      "cell_type": "markdown",
      "source": [
        "<b>Import Package dan Menggunakan modul"
      ],
      "metadata": {
        "id": "sf6dAjH2IthW"
      }
    },
    {
      "cell_type": "code",
      "source": [
        "import math #Modul Math\n",
        "print(\"Nilai pi adalah:\", math.pi)  # math.pi merupakan sintak untuk memanggil fungsi pi"
      ],
      "metadata": {
        "colab": {
          "base_uri": "https://localhost:8080/"
        },
        "id": "japND6BzJEsf",
        "outputId": "04a100a6-25ae-4312-ef51-095379318f1b"
      },
      "execution_count": null,
      "outputs": [
        {
          "output_type": "stream",
          "name": "stdout",
          "text": [
            "Nilai pi adalah: 3.141592653589793\n"
          ]
        }
      ]
    },
    {
      "cell_type": "code",
      "source": [
        "#menggunakan m sebagai module rename atau alias\n",
        "import math as m\n",
        "\n",
        "#m.pi merupakan sintak untuk memanggil fungsi\n",
        "print(\"Nilai pi adalah:\", m.pi)"
      ],
      "metadata": {
        "colab": {
          "base_uri": "https://localhost:8080/"
        },
        "id": "WPT_mna_JXFp",
        "outputId": "3f8b3f6c-1e14-4ce2-a944-1c6194ee1383"
      },
      "execution_count": null,
      "outputs": [
        {
          "output_type": "stream",
          "name": "stdout",
          "text": [
            "Nilai pi adalah: 3.141592653589793\n"
          ]
        }
      ]
    },
    {
      "cell_type": "markdown",
      "source": [
        "<b>kita dapat mengimport beberapa modul yang dibutuhkan saja menggunakan format from module_name import function_name"
      ],
      "metadata": {
        "id": "GaXmcwdqJrbT"
      }
    },
    {
      "cell_type": "code",
      "source": [
        "from math import pi\n",
        "\n",
        "print(\"Nilai pi adalah\", pi)"
      ],
      "metadata": {
        "colab": {
          "base_uri": "https://localhost:8080/"
        },
        "id": "MN3pjZ5ZJzyr",
        "outputId": "02801b9c-3cf4-408c-c3e3-6c27b660f105"
      },
      "execution_count": null,
      "outputs": [
        {
          "output_type": "stream",
          "name": "stdout",
          "text": [
            "Nilai pi adalah 3.141592653589793\n"
          ]
        }
      ]
    },
    {
      "cell_type": "markdown",
      "source": [
        "<b>Namun, jika memang yang dibutuhkan banyak, semisal lebih dari 10 atau bahkan ratusan fungsi, bisa dilakukan import semuanya dengan menggunakan format from module_name import *. Tanda * disini menunjukan semua fungsi diimport ke dalam code."
      ],
      "metadata": {
        "id": "hezKrq6IKGmd"
      }
    },
    {
      "cell_type": "code",
      "source": [
        "from math import *\n",
        "\n",
        "print(\"Nilai e adalah:\", e)"
      ],
      "metadata": {
        "colab": {
          "base_uri": "https://localhost:8080/"
        },
        "id": "kclCVKWcKJR3",
        "outputId": "ad32f182-ae36-48ad-c037-b3c5574c911e"
      },
      "execution_count": null,
      "outputs": [
        {
          "output_type": "stream",
          "name": "stdout",
          "text": [
            "Nilai e adalah: 2.718281828459045\n"
          ]
        }
      ]
    },
    {
      "cell_type": "markdown",
      "source": [
        "<b><h2>7. Membaca dari File"
      ],
      "metadata": {
        "id": "EnLxapVrKagG"
      }
    },
    {
      "cell_type": "markdown",
      "source": [
        "<b>Membaca Teks File (CSV)"
      ],
      "metadata": {
        "id": "N3fYSmfoKyKP"
      }
    },
    {
      "cell_type": "code",
      "source": [
        "import requests\n",
        "from contextlib import closing\n",
        "import csv\n",
        "\n",
        "# tentukan lokasi file, nama file, dan inisialisasi csv\n",
        "url = 'https://storage.googleapis.com/dqlab-dataset/penduduk_gender_head.csv'\n",
        "\n",
        "# baca file csv secara streaming\n",
        "with closing(requests.get(url, stream=True)) as r:\n",
        "    f = (line.decode('utf-8') for line in r.iter_lines())\n",
        "\n",
        "    reader = csv.reader(f, delimiter=',')\n",
        "\n",
        "    # membaca baris per baris\n",
        "    for row in reader:\n",
        "        print(row)"
      ],
      "metadata": {
        "colab": {
          "base_uri": "https://localhost:8080/"
        },
        "id": "UMS3bZGzKcW5",
        "outputId": "43ae5010-aec8-458b-b55e-0c6eea95244d"
      },
      "execution_count": null,
      "outputs": [
        {
          "output_type": "stream",
          "name": "stdout",
          "text": [
            "['TAHUN', 'NAMA PROVINSI', 'NAMA KABUPATEN/KOTA', 'NAMA KECAMATAN', 'NAMA KELURAHAN', 'LAKI-LAKI WNI', 'PEREMPUAN WNI', 'LAKI-LAKI WNA', 'PEREMPUAN WNA', '', '', '', '', '', '', '', '', '']\n",
            "['2013', 'PROVINSI DKI JAKARTA', 'JAKARTA PUSAT', 'GAMBIR', 'GAMBIR', '1790', '1690', '1', '2', '', '', '', '', '', '', '', '', '']\n",
            "['2013', 'PROVINSI DKI JAKARTA', 'JAKARTA PUSAT', 'GAMBIR', 'CIDENG', '9159', '9206', '5', '6', '', '', '', '', '', '', '', '', '']\n",
            "['2013', 'PROVINSI DKI JAKARTA', 'JAKARTA PUSAT', 'GAMBIR', 'PETOJO UTARA', '10811', '10436', '10', '8', '', '', '', '', '', '', '', '', '']\n",
            "['2013', 'PROVINSI DKI JAKARTA', 'JAKARTA PUSAT', 'GAMBIR', 'PETOJO SELATAN', '8455', '8023', '5', '7', '', '', '', '', '', '', '', '', '']\n",
            "['2013', 'PROVINSI DKI JAKARTA', 'JAKARTA PUSAT', 'GAMBIR', 'KEBON KELAPA', '6300', '6078', '6', '10', '', '', '', '', '', '', '', '', '']\n",
            "['2013', 'PROVINSI DKI JAKARTA', 'JAKARTA PUSAT', 'GAMBIR', 'DURI PULO', '13056', '12588', '2', '6', '', '', '', '', '', '', '', '', '']\n",
            "['2013', 'PROVINSI DKI JAKARTA', 'JAKARTA PUSAT', 'SAWAH BESAR', 'PASAR BARU', '7557', '7552', '34', '55', '', '', '', '', '', '', '', '', '']\n",
            "['2013', 'PROVINSI DKI JAKARTA', 'JAKARTA PUSAT', 'SAWAH BESAR', 'KARANG ANYAR', '16327', '15859', '4', '2', '', '', '', '', '', '', '', '', '']\n",
            "['2013', 'PROVINSI DKI JAKARTA', 'JAKARTA PUSAT', 'SAWAH BESAR', 'KARTINI', '13610', '13808', '3', '3', '', '', '', '', '', '', '', '', '']\n",
            "['2013', 'PROVINSI DKI JAKARTA', 'JAKARTA PUSAT', 'SAWAH BESAR', 'GUNUNG SAHARI UTARA', '9734', '9889', '15', '30', '', '', '', '', '', '', '', '', '']\n",
            "['2013', 'PROVINSI DKI JAKARTA', 'JAKARTA PUSAT', 'SAWAH BESAR', 'MANGGA DUA SELATAN', '17269', '16458', '42', '33', '', '', '', '', '', '', '', '', '']\n",
            "['2013', 'PROVINSI DKI JAKARTA', 'JAKARTA PUSAT', 'KEMAYORAN', 'KEMAYORAN', '12365', '11932', '6', '8', '', '', '', '', '', '', '', '', '']\n",
            "['2013', 'PROVINSI DKI JAKARTA', 'JAKARTA PUSAT', 'KEMAYORAN', 'KEBON KOSONG', '15933', '15665', '33', '25', '', '', '', '', '', '', '', '', '']\n",
            "['2013', 'PROVINSI DKI JAKARTA', 'JAKARTA PUSAT', 'KEMAYORAN', 'HARAPAN MULIA', '13523', '13049', '2', '3', '', '', '', '', '', '', '', '', '']\n",
            "['2013', 'PROVINSI DKI JAKARTA', 'JAKARTA PUSAT', 'KEMAYORAN', 'SERDANG', '17284', '17020', '1', '1', '', '', '', '', '', '', '', '', '']\n",
            "['2013', 'PROVINSI DKI JAKARTA', 'JAKARTA PUSAT', 'KEMAYORAN', 'GUNUNG SAHARI SELATAN', '11730', '11487', '13', '15', '', '', '', '', '', '', '', '', '']\n",
            "['2013', 'PROVINSI DKI JAKARTA', 'JAKARTA PUSAT', 'KEMAYORAN', 'CEMPAKA BARU', '19103', '18601', '', '3', '', '', '', '', '', '', '', '', '']\n",
            "['2013', 'PROVINSI DKI JAKARTA', 'JAKARTA PUSAT', 'KEMAYORAN', 'SUMUR BATU', '13441', '13288', '20', '13', '', '', '', '', '', '', '', '', '']\n",
            "['2013', 'PROVINSI DKI JAKARTA', 'JAKARTA PUSAT', 'KEMAYORAN', 'UTAN PANJANG', '17125', '16351', '4', '3', '', '', '', '', '', '', '', '', '']\n",
            "['2013', 'PROVINSI DKI JAKARTA', 'JAKARTA PUSAT', 'SENEN', 'SENEN', '4236', '3975', '10', '7', '', '', '', '', '', '', '', '', '']\n",
            "['2013', 'PROVINSI DKI JAKARTA', 'JAKARTA PUSAT', 'SENEN', 'KENARI', '5445', '5252', '2', '', '', '', '', '', '', '', '', '', '']\n",
            "['2013', 'PROVINSI DKI JAKARTA', 'JAKARTA PUSAT', 'SENEN', 'PASEBAN', '13787', '13477', '', '', '', '', '', '', '', '', '', '', '']\n",
            "['2013', 'PROVINSI DKI JAKARTA', 'JAKARTA PUSAT', 'SENEN', 'KRAMAT', '17482', '16331', '2', '2', '', '', '', '', '', '', '', '', '']\n",
            "['2013', 'PROVINSI DKI JAKARTA', 'JAKARTA PUSAT', 'SENEN', 'KWITANG', '9176', '9148', '1', '1', '', '', '', '', '', '', '', '', '']\n",
            "['2013', 'PROVINSI DKI JAKARTA', 'JAKARTA PUSAT', 'SENEN', 'BUNGUR', '11200', '10849', '4', '3', '', '', '', '', '', '', '', '', '']\n",
            "['2013', 'PROVINSI DKI JAKARTA', 'JAKARTA PUSAT', 'CEMPAKA PUTIH', 'CEMPAKA PUTIH TIMUR', '13630', '13686', '24', '24', '', '', '', '', '', '', '', '', '']\n",
            "['2013', 'PROVINSI DKI JAKARTA', 'JAKARTA PUSAT', 'CEMPAKA PUTIH', 'CEMPAKA PUTIH BARAT', '20029', '19681', '12', '2', '', '', '', '', '', '', '', '', '']\n",
            "['2013', 'PROVINSI DKI JAKARTA', 'JAKARTA PUSAT', 'CEMPAKA PUTIH', 'RAWASARI', '12462', '12465', '1', '3', '', '', '', '', '', '', '', '', '']\n",
            "['2013', 'PROVINSI DKI JAKARTA', 'JAKARTA PUSAT', 'MENTENG', 'MENTENG', '14576', '14610', '7', '10', '', '', '', '', '', '', '', '', '']\n",
            "['2013', 'PROVINSI DKI JAKARTA', 'JAKARTA PUSAT', 'MENTENG', 'PEGANGSAAN', '13392', '13214', '2', '', '', '', '', '', '', '', '', '', '']\n",
            "['2013', 'PROVINSI DKI JAKARTA', 'JAKARTA PUSAT', 'MENTENG', 'CIKINI', '4825', '4772', '5', '1', '', '', '', '', '', '', '', '', '']\n",
            "['2013', 'PROVINSI DKI JAKARTA', 'JAKARTA PUSAT', 'MENTENG', 'GONDANGDIA', '2196', '2443', '11', '13', '', '', '', '', '', '', '', '', '']\n",
            "['2013', 'PROVINSI DKI JAKARTA', 'JAKARTA PUSAT', 'MENTENG', 'KEBON SIRIH', '7976', '7439', '2', '2', '', '', '', '', '', '', '', '', '']\n",
            "['2013', 'PROVINSI DKI JAKARTA', 'JAKARTA PUSAT', 'TANAH ABANG', 'GELORA', '1865', '1883', '6', '2', '', '', '', '', '', '', '', '', '']\n",
            "['2013', 'PROVINSI DKI JAKARTA', 'JAKARTA PUSAT', 'TANAH ABANG', 'BENDUNGAN HILIR', '12713', '12582', '11', '2', '', '', '', '', '', '', '', '', '']\n",
            "['2013', 'PROVINSI DKI JAKARTA', 'JAKARTA PUSAT', 'TANAH ABANG', 'KARET TENGSIN', '11002', '10271', '10', '3', '', '', '', '', '', '', '', '', '']\n",
            "['2013', 'PROVINSI DKI JAKARTA', 'JAKARTA PUSAT', 'TANAH ABANG', 'PETAMBURAN', '20112', '18794', '17', '13', '', '', '', '', '', '', '', '', '']\n",
            "['2013', 'PROVINSI DKI JAKARTA', 'JAKARTA PUSAT', 'TANAH ABANG', 'KEBON MELATI', '19826', '18672', '8', '4', '', '', '', '', '', '', '', '', '']\n",
            "['2013', 'PROVINSI DKI JAKARTA', 'JAKARTA PUSAT', 'TANAH ABANG', 'KEBON KACANG', '12873', '12357', '3', '4', '', '', '', '', '', '', '', '', '']\n",
            "['2013', 'PROVINSI DKI JAKARTA', 'JAKARTA PUSAT', 'TANAH ABANG', 'KAMPUNG BALI', '7348', '7205', '3', '1', '', '', '', '', '', '', '', '', '']\n",
            "['2013', 'PROVINSI DKI JAKARTA', 'JAKARTA PUSAT', 'JOHAR BARU', 'JOHAR BARU', '21016', '20953', '2', '', '', '', '', '', '', '', '', '', '']\n",
            "['2013', 'PROVINSI DKI JAKARTA', 'JAKARTA PUSAT', 'JOHAR BARU', 'KAMPUNG RAWA', '13337', '12499', '1', '', '', '', '', '', '', '', '', '', '']\n",
            "['2013', 'PROVINSI DKI JAKARTA', 'JAKARTA PUSAT', 'JOHAR BARU', 'GALUR', '11077', '10259', '', '', '', '', '', '', '', '', '', '', '']\n",
            "['2013', 'PROVINSI DKI JAKARTA', 'JAKARTA PUSAT', 'JOHAR BARU', 'TANAH TINGGI', '22680', '21450', '', '', '', '', '', '', '', '', '', '', '']\n"
          ]
        }
      ]
    },
    {
      "cell_type": "markdown",
      "source": [
        "<b>Membaca file CSV dengan menggunakan PANDAS"
      ],
      "metadata": {
        "id": "N5qL-dkxN0DT"
      }
    },
    {
      "cell_type": "markdown",
      "source": [
        "PANDAS merupakan salah satu library yang sangat sering digunakan untuk aplikasi dan implementasi data science baik untuk data manipulation, data pre-processing, atau data wrangling. Pada sesi kali ini, kita akan menggunakan PANDAS untuk membaca file dari csv."
      ],
      "metadata": {
        "id": "3tDeLfVmOX7V"
      }
    },
    {
      "cell_type": "code",
      "source": [
        "import pandas as pd\n",
        "pd.set_option(\"display.max_columns\",50)\n",
        "\n",
        "table = pd.read_csv(\"https://storage.googleapis.com/dqlab-dataset/penduduk_gender_head.csv\")\n",
        "table.head()\n",
        "print(table)"
      ],
      "metadata": {
        "colab": {
          "base_uri": "https://localhost:8080/"
        },
        "id": "thBT8FXTN2Xb",
        "outputId": "a6703280-e4e5-4c27-c7ac-30d626633638"
      },
      "execution_count": null,
      "outputs": [
        {
          "output_type": "stream",
          "name": "stdout",
          "text": [
            "    TAHUN         NAMA PROVINSI NAMA KABUPATEN/KOTA NAMA KECAMATAN  \\\n",
            "0    2013  PROVINSI DKI JAKARTA       JAKARTA PUSAT         GAMBIR   \n",
            "1    2013  PROVINSI DKI JAKARTA       JAKARTA PUSAT         GAMBIR   \n",
            "2    2013  PROVINSI DKI JAKARTA       JAKARTA PUSAT         GAMBIR   \n",
            "3    2013  PROVINSI DKI JAKARTA       JAKARTA PUSAT         GAMBIR   \n",
            "4    2013  PROVINSI DKI JAKARTA       JAKARTA PUSAT         GAMBIR   \n",
            "5    2013  PROVINSI DKI JAKARTA       JAKARTA PUSAT         GAMBIR   \n",
            "6    2013  PROVINSI DKI JAKARTA       JAKARTA PUSAT    SAWAH BESAR   \n",
            "7    2013  PROVINSI DKI JAKARTA       JAKARTA PUSAT    SAWAH BESAR   \n",
            "8    2013  PROVINSI DKI JAKARTA       JAKARTA PUSAT    SAWAH BESAR   \n",
            "9    2013  PROVINSI DKI JAKARTA       JAKARTA PUSAT    SAWAH BESAR   \n",
            "10   2013  PROVINSI DKI JAKARTA       JAKARTA PUSAT    SAWAH BESAR   \n",
            "11   2013  PROVINSI DKI JAKARTA       JAKARTA PUSAT      KEMAYORAN   \n",
            "12   2013  PROVINSI DKI JAKARTA       JAKARTA PUSAT      KEMAYORAN   \n",
            "13   2013  PROVINSI DKI JAKARTA       JAKARTA PUSAT      KEMAYORAN   \n",
            "14   2013  PROVINSI DKI JAKARTA       JAKARTA PUSAT      KEMAYORAN   \n",
            "15   2013  PROVINSI DKI JAKARTA       JAKARTA PUSAT      KEMAYORAN   \n",
            "16   2013  PROVINSI DKI JAKARTA       JAKARTA PUSAT      KEMAYORAN   \n",
            "17   2013  PROVINSI DKI JAKARTA       JAKARTA PUSAT      KEMAYORAN   \n",
            "18   2013  PROVINSI DKI JAKARTA       JAKARTA PUSAT      KEMAYORAN   \n",
            "19   2013  PROVINSI DKI JAKARTA       JAKARTA PUSAT          SENEN   \n",
            "20   2013  PROVINSI DKI JAKARTA       JAKARTA PUSAT          SENEN   \n",
            "21   2013  PROVINSI DKI JAKARTA       JAKARTA PUSAT          SENEN   \n",
            "22   2013  PROVINSI DKI JAKARTA       JAKARTA PUSAT          SENEN   \n",
            "23   2013  PROVINSI DKI JAKARTA       JAKARTA PUSAT          SENEN   \n",
            "24   2013  PROVINSI DKI JAKARTA       JAKARTA PUSAT          SENEN   \n",
            "25   2013  PROVINSI DKI JAKARTA       JAKARTA PUSAT  CEMPAKA PUTIH   \n",
            "26   2013  PROVINSI DKI JAKARTA       JAKARTA PUSAT  CEMPAKA PUTIH   \n",
            "27   2013  PROVINSI DKI JAKARTA       JAKARTA PUSAT  CEMPAKA PUTIH   \n",
            "28   2013  PROVINSI DKI JAKARTA       JAKARTA PUSAT        MENTENG   \n",
            "29   2013  PROVINSI DKI JAKARTA       JAKARTA PUSAT        MENTENG   \n",
            "30   2013  PROVINSI DKI JAKARTA       JAKARTA PUSAT        MENTENG   \n",
            "31   2013  PROVINSI DKI JAKARTA       JAKARTA PUSAT        MENTENG   \n",
            "32   2013  PROVINSI DKI JAKARTA       JAKARTA PUSAT        MENTENG   \n",
            "33   2013  PROVINSI DKI JAKARTA       JAKARTA PUSAT    TANAH ABANG   \n",
            "34   2013  PROVINSI DKI JAKARTA       JAKARTA PUSAT    TANAH ABANG   \n",
            "35   2013  PROVINSI DKI JAKARTA       JAKARTA PUSAT    TANAH ABANG   \n",
            "36   2013  PROVINSI DKI JAKARTA       JAKARTA PUSAT    TANAH ABANG   \n",
            "37   2013  PROVINSI DKI JAKARTA       JAKARTA PUSAT    TANAH ABANG   \n",
            "38   2013  PROVINSI DKI JAKARTA       JAKARTA PUSAT    TANAH ABANG   \n",
            "39   2013  PROVINSI DKI JAKARTA       JAKARTA PUSAT    TANAH ABANG   \n",
            "40   2013  PROVINSI DKI JAKARTA       JAKARTA PUSAT     JOHAR BARU   \n",
            "41   2013  PROVINSI DKI JAKARTA       JAKARTA PUSAT     JOHAR BARU   \n",
            "42   2013  PROVINSI DKI JAKARTA       JAKARTA PUSAT     JOHAR BARU   \n",
            "43   2013  PROVINSI DKI JAKARTA       JAKARTA PUSAT     JOHAR BARU   \n",
            "\n",
            "           NAMA KELURAHAN  LAKI-LAKI WNI  PEREMPUAN WNI  LAKI-LAKI WNA  \\\n",
            "0                  GAMBIR           1790           1690            1.0   \n",
            "1                  CIDENG           9159           9206            5.0   \n",
            "2            PETOJO UTARA          10811          10436           10.0   \n",
            "3          PETOJO SELATAN           8455           8023            5.0   \n",
            "4            KEBON KELAPA           6300           6078            6.0   \n",
            "5               DURI PULO          13056          12588            2.0   \n",
            "6              PASAR BARU           7557           7552           34.0   \n",
            "7            KARANG ANYAR          16327          15859            4.0   \n",
            "8                 KARTINI          13610          13808            3.0   \n",
            "9     GUNUNG SAHARI UTARA           9734           9889           15.0   \n",
            "10     MANGGA DUA SELATAN          17269          16458           42.0   \n",
            "11              KEMAYORAN          12365          11932            6.0   \n",
            "12           KEBON KOSONG          15933          15665           33.0   \n",
            "13          HARAPAN MULIA          13523          13049            2.0   \n",
            "14                SERDANG          17284          17020            1.0   \n",
            "15  GUNUNG SAHARI SELATAN          11730          11487           13.0   \n",
            "16           CEMPAKA BARU          19103          18601            NaN   \n",
            "17             SUMUR BATU          13441          13288           20.0   \n",
            "18           UTAN PANJANG          17125          16351            4.0   \n",
            "19                  SENEN           4236           3975           10.0   \n",
            "20                 KENARI           5445           5252            2.0   \n",
            "21                PASEBAN          13787          13477            NaN   \n",
            "22                 KRAMAT          17482          16331            2.0   \n",
            "23                KWITANG           9176           9148            1.0   \n",
            "24                 BUNGUR          11200          10849            4.0   \n",
            "25    CEMPAKA PUTIH TIMUR          13630          13686           24.0   \n",
            "26    CEMPAKA PUTIH BARAT          20029          19681           12.0   \n",
            "27               RAWASARI          12462          12465            1.0   \n",
            "28                MENTENG          14576          14610            7.0   \n",
            "29             PEGANGSAAN          13392          13214            2.0   \n",
            "30                 CIKINI           4825           4772            5.0   \n",
            "31             GONDANGDIA           2196           2443           11.0   \n",
            "32            KEBON SIRIH           7976           7439            2.0   \n",
            "33                 GELORA           1865           1883            6.0   \n",
            "34        BENDUNGAN HILIR          12713          12582           11.0   \n",
            "35          KARET TENGSIN          11002          10271           10.0   \n",
            "36             PETAMBURAN          20112          18794           17.0   \n",
            "37           KEBON MELATI          19826          18672            8.0   \n",
            "38           KEBON KACANG          12873          12357            3.0   \n",
            "39           KAMPUNG BALI           7348           7205            3.0   \n",
            "40             JOHAR BARU          21016          20953            2.0   \n",
            "41           KAMPUNG RAWA          13337          12499            1.0   \n",
            "42                  GALUR          11077          10259            NaN   \n",
            "43           TANAH TINGGI          22680          21450            NaN   \n",
            "\n",
            "    PEREMPUAN WNA  Unnamed: 9  Unnamed: 10  Unnamed: 11  Unnamed: 12  \\\n",
            "0             2.0         NaN          NaN          NaN          NaN   \n",
            "1             6.0         NaN          NaN          NaN          NaN   \n",
            "2             8.0         NaN          NaN          NaN          NaN   \n",
            "3             7.0         NaN          NaN          NaN          NaN   \n",
            "4            10.0         NaN          NaN          NaN          NaN   \n",
            "5             6.0         NaN          NaN          NaN          NaN   \n",
            "6            55.0         NaN          NaN          NaN          NaN   \n",
            "7             2.0         NaN          NaN          NaN          NaN   \n",
            "8             3.0         NaN          NaN          NaN          NaN   \n",
            "9            30.0         NaN          NaN          NaN          NaN   \n",
            "10           33.0         NaN          NaN          NaN          NaN   \n",
            "11            8.0         NaN          NaN          NaN          NaN   \n",
            "12           25.0         NaN          NaN          NaN          NaN   \n",
            "13            3.0         NaN          NaN          NaN          NaN   \n",
            "14            1.0         NaN          NaN          NaN          NaN   \n",
            "15           15.0         NaN          NaN          NaN          NaN   \n",
            "16            3.0         NaN          NaN          NaN          NaN   \n",
            "17           13.0         NaN          NaN          NaN          NaN   \n",
            "18            3.0         NaN          NaN          NaN          NaN   \n",
            "19            7.0         NaN          NaN          NaN          NaN   \n",
            "20            NaN         NaN          NaN          NaN          NaN   \n",
            "21            NaN         NaN          NaN          NaN          NaN   \n",
            "22            2.0         NaN          NaN          NaN          NaN   \n",
            "23            1.0         NaN          NaN          NaN          NaN   \n",
            "24            3.0         NaN          NaN          NaN          NaN   \n",
            "25           24.0         NaN          NaN          NaN          NaN   \n",
            "26            2.0         NaN          NaN          NaN          NaN   \n",
            "27            3.0         NaN          NaN          NaN          NaN   \n",
            "28           10.0         NaN          NaN          NaN          NaN   \n",
            "29            NaN         NaN          NaN          NaN          NaN   \n",
            "30            1.0         NaN          NaN          NaN          NaN   \n",
            "31           13.0         NaN          NaN          NaN          NaN   \n",
            "32            2.0         NaN          NaN          NaN          NaN   \n",
            "33            2.0         NaN          NaN          NaN          NaN   \n",
            "34            2.0         NaN          NaN          NaN          NaN   \n",
            "35            3.0         NaN          NaN          NaN          NaN   \n",
            "36           13.0         NaN          NaN          NaN          NaN   \n",
            "37            4.0         NaN          NaN          NaN          NaN   \n",
            "38            4.0         NaN          NaN          NaN          NaN   \n",
            "39            1.0         NaN          NaN          NaN          NaN   \n",
            "40            NaN         NaN          NaN          NaN          NaN   \n",
            "41            NaN         NaN          NaN          NaN          NaN   \n",
            "42            NaN         NaN          NaN          NaN          NaN   \n",
            "43            NaN         NaN          NaN          NaN          NaN   \n",
            "\n",
            "    Unnamed: 13  Unnamed: 14  Unnamed: 15  Unnamed: 16  Unnamed: 17  \n",
            "0           NaN          NaN          NaN          NaN          NaN  \n",
            "1           NaN          NaN          NaN          NaN          NaN  \n",
            "2           NaN          NaN          NaN          NaN          NaN  \n",
            "3           NaN          NaN          NaN          NaN          NaN  \n",
            "4           NaN          NaN          NaN          NaN          NaN  \n",
            "5           NaN          NaN          NaN          NaN          NaN  \n",
            "6           NaN          NaN          NaN          NaN          NaN  \n",
            "7           NaN          NaN          NaN          NaN          NaN  \n",
            "8           NaN          NaN          NaN          NaN          NaN  \n",
            "9           NaN          NaN          NaN          NaN          NaN  \n",
            "10          NaN          NaN          NaN          NaN          NaN  \n",
            "11          NaN          NaN          NaN          NaN          NaN  \n",
            "12          NaN          NaN          NaN          NaN          NaN  \n",
            "13          NaN          NaN          NaN          NaN          NaN  \n",
            "14          NaN          NaN          NaN          NaN          NaN  \n",
            "15          NaN          NaN          NaN          NaN          NaN  \n",
            "16          NaN          NaN          NaN          NaN          NaN  \n",
            "17          NaN          NaN          NaN          NaN          NaN  \n",
            "18          NaN          NaN          NaN          NaN          NaN  \n",
            "19          NaN          NaN          NaN          NaN          NaN  \n",
            "20          NaN          NaN          NaN          NaN          NaN  \n",
            "21          NaN          NaN          NaN          NaN          NaN  \n",
            "22          NaN          NaN          NaN          NaN          NaN  \n",
            "23          NaN          NaN          NaN          NaN          NaN  \n",
            "24          NaN          NaN          NaN          NaN          NaN  \n",
            "25          NaN          NaN          NaN          NaN          NaN  \n",
            "26          NaN          NaN          NaN          NaN          NaN  \n",
            "27          NaN          NaN          NaN          NaN          NaN  \n",
            "28          NaN          NaN          NaN          NaN          NaN  \n",
            "29          NaN          NaN          NaN          NaN          NaN  \n",
            "30          NaN          NaN          NaN          NaN          NaN  \n",
            "31          NaN          NaN          NaN          NaN          NaN  \n",
            "32          NaN          NaN          NaN          NaN          NaN  \n",
            "33          NaN          NaN          NaN          NaN          NaN  \n",
            "34          NaN          NaN          NaN          NaN          NaN  \n",
            "35          NaN          NaN          NaN          NaN          NaN  \n",
            "36          NaN          NaN          NaN          NaN          NaN  \n",
            "37          NaN          NaN          NaN          NaN          NaN  \n",
            "38          NaN          NaN          NaN          NaN          NaN  \n",
            "39          NaN          NaN          NaN          NaN          NaN  \n",
            "40          NaN          NaN          NaN          NaN          NaN  \n",
            "41          NaN          NaN          NaN          NaN          NaN  \n",
            "42          NaN          NaN          NaN          NaN          NaN  \n",
            "43          NaN          NaN          NaN          NaN          NaN  \n"
          ]
        }
      ]
    },
    {
      "cell_type": "markdown",
      "source": [
        "<b><h2>8. Grafik Dasar dengan Matplotlib"
      ],
      "metadata": {
        "id": "1FpBeJIMOtYG"
      }
    },
    {
      "cell_type": "markdown",
      "source": [
        "Grafik merupakan salah satu perangkat visualisasi. Visualisasi sendiri sudah menjadi salah satu challenge atau poin penting dalam data science. Selain bisa mempermudah seseorang untuk memahami data, visualisasi bisa meningkatkan analisa atau memunculkan knowledge yang tidak sempat terekspos ketika tidak menggunakan visualisasi. Pada sesi kali ini, kita akan menggunakan matplotlib untuk melakukan visualisasi data yang sudah ada."
      ],
      "metadata": {
        "id": "WGG5bsy9Ow5Y"
      }
    },
    {
      "cell_type": "markdown",
      "source": [
        "<b>Bar Chart"
      ],
      "metadata": {
        "id": "hrKAXZjKPLN1"
      }
    },
    {
      "cell_type": "markdown",
      "source": [
        "* Python memiliki banyak library untuk visualisasi, salah satu yang paling populer adalah matplotlib karena kestabilan dan lama keberadaannya. Oleh karena itu, matplotlib sering dipilih untuk belajar visualisasi data.\n",
        "\n",
        "* Matplotlib menyediakan berbagai jenis grafik seperti scatter, plot, line, dan bar.  \n",
        "\n",
        "* kita juga menggunakan pandas dan numpy. Numpy digunakan untuk memanipulasi data dari CSV guna memudahkan visualisasi."
      ],
      "metadata": {
        "id": "FGpYXyVUchPa"
      }
    },
    {
      "cell_type": "code",
      "source": [
        "import pandas as pd\n",
        "import numpy as np\n",
        "import matplotlib.pyplot as plt\n",
        "\n",
        "\n",
        "table = pd.read_csv(\"https://storage.googleapis.com/dqlab-dataset/penduduk_gender_head.csv\")\n",
        "table.head()\n",
        "x_label = table['NAMA KELURAHAN']\n",
        "plt.bar(x=np.arange(len(x_label)),height=table['LAKI-LAKI WNI'])\n",
        "plt.show()"
      ],
      "metadata": {
        "colab": {
          "base_uri": "https://localhost:8080/",
          "height": 430
        },
        "id": "ZH6y9giQj6J1",
        "outputId": "3666b2f4-c114-43b0-a55e-7565e9b4ca3e"
      },
      "execution_count": null,
      "outputs": [
        {
          "output_type": "display_data",
          "data": {
            "text/plain": [
              "<Figure size 640x480 with 1 Axes>"
            ],
            "image/png": "[encoded data removed]"
          },
          "metadata": {}
        }
      ]
    },
    {
      "cell_type": "markdown",
      "source": [
        "<b>Parameter dalam Grafik (Memberikan Nilai Axis dari data CSV)"
      ],
      "metadata": {
        "id": "qE2y23JpkIuV"
      }
    },
    {
      "cell_type": "markdown",
      "source": [
        "Jika ditelisik lebih dalam pada CSV, dari sana ada nama kelurahan yang merupakan variabel atau seharusnya menjadi nilai AXIS pada grafik ini. Di praktek kali ini, kita akan mencoba bagaimana menempatkan nama kelurahan pada grafik."
      ],
      "metadata": {
        "id": "LWHTbKygkKjk"
      }
    },
    {
      "cell_type": "code",
      "source": [
        "import pandas as pd\n",
        "import numpy as np\n",
        "import matplotlib.pyplot as plt\n",
        "\n",
        "table = pd.read_csv(\"https://storage.googleapis.com/dqlab-dataset/penduduk_gender_head.csv\")\n",
        "table.head()\n",
        "\n",
        "x_label = table['NAMA KELURAHAN']\n",
        "plt.bar(x=np.arange(len(x_label)),height=table['LAKI-LAKI WNI'])\n",
        "plt.xticks(np.arange(len(x_label)), table['NAMA KELURAHAN'], rotation=30)\n",
        "plt.show()"
      ],
      "metadata": {
        "colab": {
          "base_uri": "https://localhost:8080/",
          "height": 520
        },
        "id": "I0a1DbdskgAw",
        "outputId": "aa02a441-35cd-4b0a-c061-f23771e7e358"
      },
      "execution_count": null,
      "outputs": [
        {
          "output_type": "display_data",
          "data": {
            "text/plain": [
              "<Figure size 640x480 with 1 Axes>"
            ],
            "image/png": "[encoded data removed]"
          },
          "metadata": {}
        }
      ]
    },
    {
      "cell_type": "markdown",
      "source": [
        "<b>Menambah Title dan Label pada Grafik"
      ],
      "metadata": {
        "id": "dOvdYXIRkmc3"
      }
    },
    {
      "cell_type": "markdown",
      "source": [
        "Pada implementasi grafik, pemberian label pada AXIS dan Ordinat sangat penting untuk menjelaskan maksud grafik. Pada praktik kali ini, kita akan mencoba memberikan label dan title pada grafik yang telah dibuat sebelumnya."
      ],
      "metadata": {
        "id": "lcbYckZXku-e"
      }
    },
    {
      "cell_type": "code",
      "source": [
        "import pandas as pd\n",
        "import numpy as np\n",
        "import matplotlib.pyplot as plt\n",
        "\n",
        "\n",
        "table = pd.read_csv(\"https://storage.googleapis.com/dqlab-dataset/penduduk_gender_head.csv\")\n",
        "table.head()\n",
        "\n",
        "x_label = table['NAMA KELURAHAN']\n",
        "plt.bar(x=np.arange(len(x_label)),height=table['LAKI-LAKI WNI'])\n",
        "plt.xticks(np.arange(len(x_label)), table['NAMA KELURAHAN'], rotation=90)\n",
        "plt.xlabel('Kelurahan di Jakarta Pusat')\n",
        "plt.ylabel('Jumlah Penduduk Laki - Laki')\n",
        "plt.title('Persebaran Jumlah Penduduk Laki- Laki di Jakarta Pusat')\n",
        "\n",
        "plt.show()"
      ],
      "metadata": {
        "colab": {
          "base_uri": "https://localhost:8080/",
          "height": 642
        },
        "id": "dEBf2zMnkzb1",
        "outputId": "19c418a4-c729-4267-d79f-656e6522f49e"
      },
      "execution_count": null,
      "outputs": [
        {
          "output_type": "display_data",
          "data": {
            "text/plain": [
              "<Figure size 640x480 with 1 Axes>"
            ],
            "image/png": "[encoded data removed]"
          },
          "metadata": {}
        }
      ]
    }
  ]
}